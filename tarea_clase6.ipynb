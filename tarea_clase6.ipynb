{
 "cells": [
  {
   "cell_type": "markdown",
   "metadata": {},
   "source": [
    "1. Calculadora de IMC (Índice de Masa Corporal):\n",
    "\n",
    "Cree una función que calcule el IMC (Índice de Masa Corporal) de una persona a partir de su peso y altura. La función debe recibir como parámetros el peso (en kg) y la altura (en cm) y devolver el valor del IMC.\n",
    "\n",
    "Opcional: Implemente una segunda función que clasifique el IMC según los estándares de la OMS:\n",
    "\n",
    "* Bajo peso: IMC < 18.5\n",
    "* Peso normal: 18.5 <= IMC < 25\n",
    "* Sobrepeso: 25 <= IMC < 30\n",
    "* Obesidad: IMC >= 30"
   ]
  },
  {
   "cell_type": "code",
   "execution_count": 3,
   "metadata": {},
   "outputs": [
    {
     "name": "stdout",
     "output_type": "stream",
     "text": [
      "Su peso es bajo\n"
     ]
    }
   ],
   "source": [
    "def calculadora_imc(peso, altura):\n",
    "    imc = (peso / (altura ** 2)) *100\n",
    "    return imc\n",
    "\n",
    "def clasificar_imc(imc):\n",
    "    if imc < 18.5:\n",
    "        print(\"Su peso es bajo\")\n",
    "    elif imc >= 18.5:\n",
    "        print(\"Su peso es normal\")\n",
    "    elif imc > 25:\n",
    "        print(\"Esta en sobrepeso\")\n",
    "    elif imc >= 30:\n",
    "        print(\"Esta obeso\")\n",
    "    \n",
    "\n",
    "imc = calculadora_imc(80,170)\n",
    "clasificar_imc(imc)"
   ]
  },
  {
   "cell_type": "markdown",
   "metadata": {},
   "source": [
    "2. Analizador de números:\n",
    "\n",
    "Cree una función que reciba un número entero como parámetro y devuelva un diccionario con la siguiente información:\n",
    "\n",
    "Si el número es par o impar\n",
    "Si el número es positivo, negativo o cero\n",
    "Si el número es divisible por 3\n",
    "Si el número es divisible por 5\n",
    "Si el número es divisible por 3 y por 5\n",
    "Opcional: Implemente la función utilizando una función lambda para cada una de las verificaciones."
   ]
  },
  {
   "cell_type": "code",
   "execution_count": 12,
   "metadata": {},
   "outputs": [],
   "source": [
    "def analizador_numeros(numero_entero):\n",
    "    numero_entero = int(input(numero_entero))\n",
    "    if numero_entero % 2 == 0:\n",
    "        numero_par = True\n",
    "    else:\n",
    "        numero_impar = True\n",
    "    "
   ]
  },
  {
   "cell_type": "markdown",
   "metadata": {},
   "source": [
    "3. Calculadora de área y perímetro de figuras geométricas:\n",
    "\n",
    "Cree funciones para calcular el área y perímetro de las siguientes figuras geométricas:\n",
    "\n",
    "Cuadrado\n",
    "Triángulo (equilátero, rectángulo e isósceles)\n",
    "Círculo\n",
    "Rectángulo\n",
    "Cada función debe recibir las dimensiones necesarias como parámetros y devolver el valor correspondiente del área o perímetro."
   ]
  }
 ],
 "metadata": {
  "kernelspec": {
   "display_name": "Python 3",
   "language": "python",
   "name": "python3"
  },
  "language_info": {
   "codemirror_mode": {
    "name": "ipython",
    "version": 3
   },
   "file_extension": ".py",
   "mimetype": "text/x-python",
   "name": "python",
   "nbconvert_exporter": "python",
   "pygments_lexer": "ipython3",
   "version": "3.12.0"
  }
 },
 "nbformat": 4,
 "nbformat_minor": 2
}
