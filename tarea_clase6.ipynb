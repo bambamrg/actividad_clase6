{
 "cells": [
  {
   "cell_type": "markdown",
   "metadata": {},
   "source": [
    "1. Calculadora de IMC (Índice de Masa Corporal):\n",
    "\n",
    "Cree una función que calcule el IMC (Índice de Masa Corporal) de una persona a partir de su peso y altura. La función debe recibir como parámetros el peso (en kg) y la altura (en cm) y devolver el valor del IMC.\n",
    "\n",
    "Opcional: Implemente una segunda función que clasifique el IMC según los estándares de la OMS:\n",
    "\n",
    "* Bajo peso: IMC < 18.5\n",
    "* Peso normal: 18.5 <= IMC < 25\n",
    "* Sobrepeso: 25 <= IMC < 30\n",
    "* Obesidad: IMC >= 30"
   ]
  },
  {
   "cell_type": "code",
   "execution_count": 19,
   "metadata": {},
   "outputs": [
    {
     "name": "stdout",
     "output_type": "stream",
     "text": [
      "Su imc es: 0.27681660899653976\n",
      "Su peso es bajo\n"
     ]
    }
   ],
   "source": [
    "def calculadora_imc(peso, altura):\n",
    "    imc = (peso / (altura ** 2)) *100\n",
    "    return imc\n",
    "\n",
    "def clasificar_imc(imc):\n",
    "    if imc < 18.5:\n",
    "        return \"Su peso es bajo\"\n",
    "    elif 18.5 <= imc < 25:\n",
    "        return \"Su peso es normal\" \n",
    "    elif 25 <= imc < 30:\n",
    "        return \"Esta en sobrepeso\" \n",
    "    elif imc >= 30:\n",
    "        return \"Esta obeso\"\n",
    "    \n",
    "\n",
    "imc = calculadora_imc(80,170)\n",
    "print(f'Su imc es: {imc}')\n",
    "print(clasificar_imc(imc))"
   ]
  },
  {
   "cell_type": "markdown",
   "metadata": {},
   "source": [
    "2. Analizador de números:\n",
    "\n",
    "Cree una función que reciba un número entero como parámetro y devuelva un diccionario con la siguiente información:\n",
    "\n",
    "* Si el número es par o impar\n",
    "* Si el número es positivo, negativo o cero\n",
    "* Si el número es divisible por 3\n",
    "* Si el número es divisible por 5\n",
    "* Si el número es divisible por 3 y por 5\n",
    "* Opcional: Implemente la función utilizando una función lambda para cada una de las verificaciones."
   ]
  },
  {
   "cell_type": "code",
   "execution_count": 23,
   "metadata": {},
   "outputs": [
    {
     "data": {
      "text/plain": [
       "'El número es par'"
      ]
     },
     "execution_count": 23,
     "metadata": {},
     "output_type": "execute_result"
    }
   ],
   "source": [
    "def analizador_numeros(numero_entero):\n",
    "    analizador = {\n",
    "    if numero_entero % 2 == 0:\n",
    "        return \"El número es par\"\n",
    "    else:\n",
    "        return \"El número es impar\"\n",
    "    \n",
    "\n",
    "    if numero_entero == 0:\n",
    "        return \"El número es cero\"\n",
    "    elif numero_entero < 0:\n",
    "        return \"El número es negativo\"\n",
    "    elif numero_entero > 0:\n",
    "        return \"El número es positivo\"\n",
    "    if numero_entero %3 == 0:\n",
    "        return \"El número es divisible por 3\"\n",
    "    else:\n",
    "        return \"El número no es divisible por 3\"\n",
    "    if numero_entero %5 == 0:\n",
    "        return \"El número es divisible por 5\"\n",
    "    else:\n",
    "        return \"El número no es divisible por 5\"\n",
    "    if numero_entero %5 == 0 and numero_entero %3 == 0:\n",
    "        return \"El número es divisible por 3 y 5\"\n",
    "    }\n",
    "    \n",
    "analizador_numeros(4)\n",
    "    "
   ]
  },
  {
   "cell_type": "markdown",
   "metadata": {},
   "source": [
    "3. Calculadora de área y perímetro de figuras geométricas:\n",
    "\n",
    "Cree funciones para calcular el área y perímetro de las siguientes figuras geométricas:\n",
    "\n",
    "* Cuadrado\n",
    "* Triángulo (equilátero, rectángulo e isósceles)\n",
    "* Círculo\n",
    "* Rectángulo\n",
    "Cada función debe recibir las dimensiones necesarias como parámetros y devolver el valor correspondiente del área o perímetro."
   ]
  },
  {
   "cell_type": "code",
   "execution_count": 29,
   "metadata": {},
   "outputs": [
    {
     "data": {
      "text/plain": [
       "'El area del cuadradro es 36 y su perimetro es 24'"
      ]
     },
     "execution_count": 29,
     "metadata": {},
     "output_type": "execute_result"
    }
   ],
   "source": [
    "def calcular_cuadrado(lado):\n",
    "    area = lado * lado\n",
    "    perimetro = lado * 4\n",
    "    return f'El area del cuadradro es {area} y su perimetro es {perimetro}'\n",
    "\n",
    "def calcular_triangulo_equilatero(base, altura,hipotenusa):\n",
    "    perimetro = base + altura + hipotenusa\n",
    "    area = 0.5 * base * altura\n",
    "    return\n",
    "\n",
    "def calcular_triangulo_rectangulo(base,altura,hipotenusa):\n",
    "    area = (base * altura) / 2\n",
    "    perimetro = base + altura + hipotenusa\n",
    "    return f'El area del triangulo rectangulo es {area} y su perimetro es {perimtro}'\n",
    "def calcular_triangulo_isosceles(base,altura,lado):\n",
    "    area = (lado * altura) / 2\n",
    "    perimetro = 2 * lado + base\n",
    "    return f'El area del triangulo isosceles {area} y su perimetro es {perimetro}'\n",
    "\n",
    "def calcular_circulo(radio):\n",
    "    area = 3.14 * radio * radio\n",
    "    perimetro = 2 * 3.14 * radio\n",
    "    return f'El area del circulo es {area} y su perimetro es {perimetro}'\n",
    "\n",
    "def calcular_rectangulo(base,altura):\n",
    "    area = base * altura\n",
    "    perimetro = 2 * base + 2 * altura\n",
    "    return f'El area del rectangulo es {area} y su perimetro es {perimetro}'\n",
    "\n",
    "calcular_cuadrado(6)"
   ]
  }
 ],
 "metadata": {
  "kernelspec": {
   "display_name": "Python 3",
   "language": "python",
   "name": "python3"
  },
  "language_info": {
   "codemirror_mode": {
    "name": "ipython",
    "version": 3
   },
   "file_extension": ".py",
   "mimetype": "text/x-python",
   "name": "python",
   "nbconvert_exporter": "python",
   "pygments_lexer": "ipython3",
   "version": "3.12.0"
  }
 },
 "nbformat": 4,
 "nbformat_minor": 2
}
