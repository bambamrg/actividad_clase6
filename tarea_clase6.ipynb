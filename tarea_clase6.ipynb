{
 "cells": [
  {
   "cell_type": "markdown",
   "metadata": {},
   "source": [
    "1. Calculadora de IMC (Índice de Masa Corporal):\n",
    "\n",
    "Cree una función que calcule el IMC (Índice de Masa Corporal) de una persona a partir de su peso y altura. La función debe recibir como parámetros el peso (en kg) y la altura (en cm) y devolver el valor del IMC.\n",
    "\n",
    "Opcional: Implemente una segunda función que clasifique el IMC según los estándares de la OMS:\n",
    "\n",
    "Bajo peso: IMC < 18.5\n",
    "Peso normal: 18.5 <= IMC < 25\n",
    "Sobrepeso: 25 <= IMC < 30\n",
    "Obesidad: IMC >= 30"
   ]
  },
  {
   "cell_type": "code",
   "execution_count": 10,
   "metadata": {},
   "outputs": [
    {
     "ename": "TypeError",
     "evalue": "unsupported operand type(s) for /: 'str' and 'float'",
     "output_type": "error",
     "traceback": [
      "\u001b[1;31m---------------------------------------------------------------------------\u001b[0m",
      "\u001b[1;31mTypeError\u001b[0m                                 Traceback (most recent call last)",
      "Cell \u001b[1;32mIn[10], line 7\u001b[0m\n\u001b[0;32m      4\u001b[0m     imc \u001b[38;5;241m=\u001b[39m peso \u001b[38;5;241m/\u001b[39m (altura \u001b[38;5;241m*\u001b[39m\u001b[38;5;241m*\u001b[39m \u001b[38;5;241m2\u001b[39m)\n\u001b[0;32m      5\u001b[0m     \u001b[38;5;28;01mreturn\u001b[39;00m imc\n\u001b[1;32m----> 7\u001b[0m \u001b[43mcalculadora_imc\u001b[49m\u001b[43m(\u001b[49m\u001b[38;5;241;43m80\u001b[39;49m\u001b[43m,\u001b[49m\u001b[38;5;241;43m170\u001b[39;49m\u001b[43m)\u001b[49m\n",
      "Cell \u001b[1;32mIn[10], line 4\u001b[0m, in \u001b[0;36mcalculadora_imc\u001b[1;34m(peso, altura)\u001b[0m\n\u001b[0;32m      2\u001b[0m peso \u001b[38;5;241m=\u001b[39m \u001b[38;5;28minput\u001b[39m(\u001b[38;5;124m\"\u001b[39m\u001b[38;5;124mIngrese su peso en kg.\u001b[39m\u001b[38;5;124m\"\u001b[39m)\n\u001b[0;32m      3\u001b[0m altura \u001b[38;5;241m=\u001b[39m \u001b[38;5;28mfloat\u001b[39m(\u001b[38;5;28minput\u001b[39m(\u001b[38;5;124m\"\u001b[39m\u001b[38;5;124mIngrese su altura en cm.\u001b[39m\u001b[38;5;124m\"\u001b[39m))\n\u001b[1;32m----> 4\u001b[0m imc \u001b[38;5;241m=\u001b[39m \u001b[43mpeso\u001b[49m\u001b[43m \u001b[49m\u001b[38;5;241;43m/\u001b[39;49m\u001b[43m \u001b[49m\u001b[43m(\u001b[49m\u001b[43maltura\u001b[49m\u001b[43m \u001b[49m\u001b[38;5;241;43m*\u001b[39;49m\u001b[38;5;241;43m*\u001b[39;49m\u001b[43m \u001b[49m\u001b[38;5;241;43m2\u001b[39;49m\u001b[43m)\u001b[49m\n\u001b[0;32m      5\u001b[0m \u001b[38;5;28;01mreturn\u001b[39;00m imc\n",
      "\u001b[1;31mTypeError\u001b[0m: unsupported operand type(s) for /: 'str' and 'float'"
     ]
    }
   ],
   "source": [
    "def calculadora_imc(peso, altura):\n",
    "    #peso = input(\"Ingrese su peso en kg.\")\n",
    "    #altura = (input(\"Ingrese su altura en cm.\"))\n",
    "    imc = peso / (altura ** 2)\n",
    "    return imc\n",
    "\n",
    "calculadora_imc(80,170)"
   ]
  },
  {
   "cell_type": "markdown",
   "metadata": {},
   "source": [
    "2. Analizador de números:\n",
    "\n",
    "Cree una función que reciba un número entero como parámetro y devuelva un diccionario con la siguiente información:\n",
    "\n",
    "Si el número es par o impar\n",
    "Si el número es positivo, negativo o cero\n",
    "Si el número es divisible por 3\n",
    "Si el número es divisible por 5\n",
    "Si el número es divisible por 3 y por 5\n",
    "Opcional: Implemente la función utilizando una función lambda para cada una de las verificaciones."
   ]
  },
  {
   "cell_type": "code",
   "execution_count": 12,
   "metadata": {},
   "outputs": [],
   "source": [
    "def analizador_numeros(numero_entero):\n",
    "    numero_entero = int(input(numero_entero))\n",
    "    if numero_entero % 2 == 0:\n",
    "        numero_par = True\n",
    "    else:\n",
    "        numero_impar = True\n",
    "    "
   ]
  },
  {
   "cell_type": "markdown",
   "metadata": {},
   "source": [
    "3. Calculadora de área y perímetro de figuras geométricas:\n",
    "\n",
    "Cree funciones para calcular el área y perímetro de las siguientes figuras geométricas:\n",
    "\n",
    "Cuadrado\n",
    "Triángulo (equilátero, rectángulo e isósceles)\n",
    "Círculo\n",
    "Rectángulo\n",
    "Cada función debe recibir las dimensiones necesarias como parámetros y devolver el valor correspondiente del área o perímetro."
   ]
  }
 ],
 "metadata": {
  "kernelspec": {
   "display_name": "Python 3",
   "language": "python",
   "name": "python3"
  },
  "language_info": {
   "codemirror_mode": {
    "name": "ipython",
    "version": 3
   },
   "file_extension": ".py",
   "mimetype": "text/x-python",
   "name": "python",
   "nbconvert_exporter": "python",
   "pygments_lexer": "ipython3",
   "version": "3.12.0"
  }
 },
 "nbformat": 4,
 "nbformat_minor": 2
}
